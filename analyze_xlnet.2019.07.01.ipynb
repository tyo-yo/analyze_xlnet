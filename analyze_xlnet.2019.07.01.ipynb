{
 "cells": [
  {
   "cell_type": "code",
   "execution_count": 1,
   "metadata": {
    "collapsed": true,
    "jupyter": {
     "outputs_hidden": true
    }
   },
   "outputs": [
    {
     "name": "stderr",
     "output_type": "stream",
     "text": [
      "WARNING: Logging before flag parsing goes to stderr.\n",
      "W0630 21:54:12.534361 140518628157248 deprecation_wrapper.py:119] From /data/temp/nakam/xlnet/model_utils.py:295: The name tf.train.Optimizer is deprecated. Please use tf.compat.v1.train.Optimizer instead.\n",
      "\n"
     ]
    }
   ],
   "source": [
    "import tensorflow as tf\n",
    "import xlnet\n",
    "from pprint import pprint\n",
    "import sentencepiece as spm\n",
    "from prepro_utils import preprocess_text\n",
    "import numpy as np\n",
    "from model_utils import get_assignment_map_from_checkpoint\n",
    "from tensorboardX import SummaryWriter"
   ]
  },
  {
   "cell_type": "markdown",
   "metadata": {},
   "source": [
    "# Model Config"
   ]
  },
  {
   "cell_type": "code",
   "execution_count": 2,
   "metadata": {
    "collapsed": true,
    "jupyter": {
     "outputs_hidden": true
    }
   },
   "outputs": [
    {
     "name": "stderr",
     "output_type": "stream",
     "text": [
      "W0630 21:54:13.470359 140518628157248 deprecation_wrapper.py:119] From /data/temp/nakam/xlnet/xlnet.py:63: The name tf.gfile.Open is deprecated. Please use tf.io.gfile.GFile instead.\n",
      "\n"
     ]
    },
    {
     "name": "stdout",
     "output_type": "stream",
     "text": [
      "{'d_head': 64,\n",
      " 'd_inner': 4096,\n",
      " 'd_model': 1024,\n",
      " 'ff_activation': 'gelu',\n",
      " 'keys': ['n_layer',\n",
      "          'd_model',\n",
      "          'n_head',\n",
      "          'd_head',\n",
      "          'd_inner',\n",
      "          'ff_activation',\n",
      "          'untie_r',\n",
      "          'n_token'],\n",
      " 'n_head': 16,\n",
      " 'n_layer': 24,\n",
      " 'n_token': 32000,\n",
      " 'untie_r': True}\n",
      "{'bi_data': False,\n",
      " 'clamp_len': -1,\n",
      " 'dropatt': 0.1,\n",
      " 'dropout': 0.1,\n",
      " 'init': 'normal',\n",
      " 'init_range': 0.1,\n",
      " 'init_std': 0.02,\n",
      " 'is_training': False,\n",
      " 'mem_len': None,\n",
      " 'reuse_len': None,\n",
      " 'same_length': False,\n",
      " 'use_bfloat16': False,\n",
      " 'use_tpu': False}\n"
     ]
    }
   ],
   "source": [
    "# XLNetConfig contains hyperparameters that are specific to a model checkpoint.\n",
    "xlnet_config = xlnet.XLNetConfig(json_path='xlnet_cased_L-24_H-1024_A-16/xlnet_config.json')\n",
    "\n",
    "# RunConfig contains hyperparameters that could be different between pretraining and finetuning.\n",
    "run_config_kwargs = dict(\n",
    "  is_training=False,\n",
    "  use_tpu=False,\n",
    "  use_bfloat16=False,\n",
    "  dropout=0.1,\n",
    "  dropatt=0.1)\n",
    "run_config = xlnet.RunConfig(**run_config_kwargs)\n",
    "\n",
    "pprint(xlnet_config.__dict__)\n",
    "pprint(run_config.__dict__)"
   ]
  },
  {
   "cell_type": "markdown",
   "metadata": {},
   "source": [
    "# Define parameters and variables"
   ]
  },
  {
   "cell_type": "code",
   "execution_count": 3,
   "metadata": {},
   "outputs": [],
   "source": [
    "seq_length = 200\n",
    "bsz = 4\n",
    "log_dir = 'visualization2'\n",
    "\n",
    "input_ids = tf.placeholder(tf.int32, [seq_length, None], name='input_ids')\n",
    "input_mask = tf.placeholder(tf.float32, [seq_length, None], name='input_mask')\n",
    "segment_ids = tf.placeholder(tf.int32, [seq_length, None], name='segment_ids')"
   ]
  },
  {
   "cell_type": "markdown",
   "metadata": {},
   "source": [
    "# Define Model"
   ]
  },
  {
   "cell_type": "code",
   "execution_count": 4,
   "metadata": {
    "collapsed": true,
    "jupyter": {
     "outputs_hidden": true
    }
   },
   "outputs": [
    {
     "name": "stderr",
     "output_type": "stream",
     "text": [
      "W0630 21:54:14.630938 140518628157248 deprecation_wrapper.py:119] From /data/temp/nakam/xlnet/xlnet.py:220: The name tf.variable_scope is deprecated. Please use tf.compat.v1.variable_scope instead.\n",
      "\n",
      "W0630 21:54:14.632586 140518628157248 deprecation_wrapper.py:119] From /data/temp/nakam/xlnet/xlnet.py:220: The name tf.AUTO_REUSE is deprecated. Please use tf.compat.v1.AUTO_REUSE instead.\n",
      "\n",
      "W0630 21:54:14.634006 140518628157248 deprecation_wrapper.py:119] From /data/temp/nakam/xlnet/modeling.py:453: The name tf.logging.info is deprecated. Please use tf.compat.v1.logging.info instead.\n",
      "\n",
      "W0630 21:54:14.635187 140518628157248 deprecation_wrapper.py:119] From /data/temp/nakam/xlnet/modeling.py:460: The name tf.get_variable is deprecated. Please use tf.compat.v1.get_variable instead.\n",
      "\n",
      "W0630 21:54:14.697995 140518628157248 deprecation.py:323] From /data/temp/nakam/xlnet/modeling.py:535: dropout (from tensorflow.python.layers.core) is deprecated and will be removed in a future version.\n",
      "Instructions for updating:\n",
      "Use keras.layers.dropout instead.\n",
      "W0630 21:54:16.219511 140518628157248 lazy_loader.py:50] \n",
      "The TensorFlow contrib module will not be included in TensorFlow 2.0.\n",
      "For more information, please see:\n",
      "  * https://github.com/tensorflow/community/blob/master/rfcs/20180907-contrib-sunset.md\n",
      "  * https://github.com/tensorflow/addons\n",
      "  * https://github.com/tensorflow/io (for I/O related ops)\n",
      "If you depend on functionality not listed there, please file an issue.\n",
      "\n",
      "W0630 21:54:16.248593 140518628157248 deprecation.py:323] From /data/temp/nakam/xlnet/modeling.py:67: dense (from tensorflow.python.layers.core) is deprecated and will be removed in a future version.\n",
      "Instructions for updating:\n",
      "Use keras.layers.dense instead.\n"
     ]
    }
   ],
   "source": [
    "xlnet_model = xlnet.XLNetModel(\n",
    "    xlnet_config=xlnet_config,\n",
    "    run_config=run_config,\n",
    "    input_ids=input_ids,\n",
    "    seg_ids=segment_ids,\n",
    "    input_mask=input_mask)\n",
    "\n",
    "summary = xlnet_model.get_pooled_out(summary_type=\"last\")\n",
    "seq_out = xlnet_model.get_sequence_output()\n",
    "\n",
    "sess = tf.InteractiveSession()"
   ]
  },
  {
   "cell_type": "markdown",
   "metadata": {},
   "source": [
    "# Load Pre-trained parameters"
   ]
  },
  {
   "cell_type": "code",
   "execution_count": 5,
   "metadata": {},
   "outputs": [],
   "source": [
    "init_ckpt_path = 'xlnet_cased_L-24_H-1024_A-16/xlnet_model.ckpt'\n",
    "tvars = tf.global_variables()\n",
    "assignment_map, initialized_variable_names = get_assignment_map_from_checkpoint(tvars, init_ckpt_path)\n",
    "tf.train.init_from_checkpoint(init_ckpt_path, assignment_map)\n",
    "tf.global_variables_initializer().run()"
   ]
  },
  {
   "cell_type": "markdown",
   "metadata": {},
   "source": [
    "# Visualize Model to Tensorboard"
   ]
  },
  {
   "cell_type": "code",
   "execution_count": 6,
   "metadata": {},
   "outputs": [],
   "source": [
    "tf.summary.scalar('seq_out', seq_out)\n",
    "summary_writer = tf.summary.FileWriter(log_dir , sess.graph)"
   ]
  },
  {
   "cell_type": "markdown",
   "metadata": {},
   "source": [
    "# Sentencepiece setting"
   ]
  },
  {
   "cell_type": "code",
   "execution_count": 7,
   "metadata": {
    "collapsed": true,
    "jupyter": {
     "outputs_hidden": true
    }
   },
   "outputs": [
    {
     "name": "stdout",
     "output_type": "stream",
     "text": [
      "id: 000000, piece: <unk>\n",
      "id: 000001, piece: <s>\n",
      "id: 000002, piece: </s>\n",
      "id: 000003, piece: <cls>\n",
      "id: 000004, piece: <sep>\n",
      "id: 000005, piece: <pad>\n",
      "id: 000006, piece: <mask>\n",
      "id: 000007, piece: <eod>\n",
      "id: 000008, piece: <eop>\n",
      "id: 000009, piece: .\n",
      "id: 000010, piece: (\n",
      "id: 000011, piece: )\n",
      "id: 000012, piece: \"\n",
      "id: 000013, piece: -\n",
      "id: 000014, piece: –\n",
      "id: 000015, piece: £\n",
      "id: 000016, piece: €\n",
      "id: 000017, piece: ▁\n",
      "id: 000018, piece: ▁the\n",
      "id: 000019, piece: ,\n",
      "id: 000020, piece: ▁of\n",
      "id: 000021, piece: ▁and\n",
      "id: 000022, piece: ▁to\n",
      "id: 000023, piece: s\n",
      "id: 000024, piece: ▁a\n",
      "id: 000025, piece: ▁in\n",
      "id: 000026, piece: '\n",
      "id: 000027, piece: ▁is\n",
      "id: 000028, piece: ▁for\n",
      "id: 000029, piece: ▁that\n",
      "id: 000030, piece: ▁was\n",
      "id: 000031, piece: ▁on\n",
      "id: 000032, piece: ▁The\n",
      "id: 000033, piece: ▁with\n",
      "id: 000034, piece: ▁as\n",
      "id: 000035, piece: ▁I\n",
      "id: 000036, piece: ▁it\n",
      "id: 000037, piece: ▁by\n",
      "id: 000038, piece: ▁at\n",
      "id: 000039, piece: ▁be\n",
      "id: 000040, piece: ▁from\n",
      "id: 000041, piece: ▁are\n",
      "id: 000042, piece: ▁said\n",
      "id: 000043, piece: ▁he\n",
      "id: 000044, piece: ▁you\n",
      "id: 000045, piece: ▁his\n",
      "id: 000046, piece: t\n",
      "id: 000047, piece: ▁have\n",
      "id: 000048, piece: ▁an\n",
      "id: 000049, piece: ▁or\n"
     ]
    }
   ],
   "source": [
    "sp_model = spm.SentencePieceProcessor()\n",
    "sp_model.Load('xlnet_cased_L-24_H-1024_A-16/spiece.model')\n",
    "\n",
    "with open('visualization/vocab.txt', 'w', encoding='utf-8') as f:\n",
    "    for id in range(len(sp_model)):\n",
    "        f.write(f'id: {id:06d}, piece: {sp_model.id_to_piece(id)}\\n')\n",
    "!head -50 visualization/vocab.txt"
   ]
  },
  {
   "cell_type": "markdown",
   "metadata": {},
   "source": [
    "# Input Data"
   ]
  },
  {
   "cell_type": "code",
   "execution_count": 8,
   "metadata": {},
   "outputs": [],
   "source": [
    "# sentences = [\n",
    "#     \"His common name was Yukie HISAKAWA.<sep><cls>\",\n",
    "#     \"In the Edo period, Japan was in a state of what is called national isolation, ending cultural exchanges with foreign countries except for China (Ming, Qing) and the Netherlands, establishing peace which continued for 250 years instead.<sep><cls>\",\n",
    "#     \"Yamato-cha green tea is a kind of Japanese tea produced in an area centering Yamato Plateau in Nara Prefecture.<sep><cls>\",\n",
    "#     \"Since Yoshiaki received the childhood name of his father, Kotaro, there was a theory that his mother was the seishitsu (legal wife) of Yoshisada.<sep><cls>\",\n",
    "#     \"There are three kinds of summer wear for goten jochu (palace maids) which are Tsuji, Chayatsuji and Sarashinuno (bleached cloth), and they were properly used according to the social position.'<sep><cls>\",\n",
    "#     \"For Japanese calendar, also refer to Template seasonal topic, Template today's calendar, and Template what happened on this date in the past.<sep><cls>\",\n",
    "#     \"There was a big difference between the Keihanshin Local Line and the Keihin Tohoku Line, though they were seemingly similar from the viewpoint of JNR Head Office,.<sep><cls>\",\n",
    "#     \"FUJIWARA no Takaie (979 - February 8, 1044) was a court noble during the Heian period.<sep><cls>\",\n",
    "#     \"In 1422, Zeami assigned the position of Kanze-dayu to his eldest son, Motomasa KANZE and he became a priest.<sep><cls>\",\n",
    "#     \"In August 1609, when adulteries of Kugeshu (court nobles) such as Sangi (Councilor)<sep> Mitsuhiro KARASUMARU were discovered (the Inokuma Incident), Noritoshi, who had been helping their promiscuities, was afraid of being prosecuted by Kyoto Shoshidai (The Kyoto deputy) and ran away to Kyushu region.<sep><cls>\",\n",
    "#     \"Letter from Emperor Go-Uda<sep> (May 11, On Receiving a Buddhist Name)<sep><cls>\",\n",
    "#     \"Korean dishes are provided with many features of Japanese dishes.<sep><cls>\", # <-\n",
    "#     \"The time spent in the cable car is only about 2 minutes, and those who contribute 100 yen to the temple can ride the cable car for free (essentially, the fare is 100 yen one way).<sep><cls>\",\n",
    "#     \"After winning the Sino-Japanese War and Russo-Japanese War, Japan became one of the great world powers.<sep><cls>\",\n",
    "#     \"Article 10: Crimes of murder and bodily injury<sep><cls>\",\n",
    "#     \"It was said that Tomiko had sent a assassin to kill Imamairi.<sep><cls>\",\n",
    "#     \"Autumn: From October 25 to November 10<sep><cls>\",\n",
    "#     \"Bemin system is a system during the Yamato sovereignty, which refers to the system of subordination and service to the sovereignty and the system of the division of duties at the Imperial Court.<sep><cls>\",\n",
    "#     \"Mitsumoto HOSOKAWA (1378 - November 15, 1425) was a Kanrei (shogunal deputy) lived in the early Muromachi period.<sep><cls>\",\n",
    "#     \"He then said, 'That's what I have to do to keep from starving to death,' and disappeared into the darkness of the night.<sep><cls>\",\n",
    "#     \"Moreover, Oishi gained their support since he declined to receive a dividend.<sep><cls>\",\n",
    "#     \"Yuzu kosho (a spicy, hot Japanese condiment made from yuzu rind, chili, and salt): A touch of Yuzu Kosho may be added to suiji in a bowl.<sep><cls>\",\n",
    "#     \"The angle a Sensu or Ogi when unfolded varies from 90 - 180 degrees, with around 120 degrees being the norm.<sep><cls>\",\n",
    "#     \"The personification of shinrabansho<sep><cls>\",\n",
    "#     \"Naiku: September 25, 1993/September 2013;<sep> Geku: September 27, 1993/September 2013<sep><cls>\",\n",
    "#     \"In 1957, he moved to Tokyo Eiga Haikyu<sep> (Tokyo film distribution company) affiliated with Toho Co., Ltd.<sep><cls>\",\n",
    "#     \"He was the fourth son to Moroyashi YAMANA.<sep><cls>\", # <-\n",
    "#     \"In the Katsuragi region, construction of famous tumulus started from the middle of the early Kofun period (Tumulus period).<sep><cls>\",\n",
    "#     \"Most of the old mechanical dolls seen outside Japan do a simple reciprocation, such as sawing and ax-swinging.<sep><cls>\",\n",
    "#     \"He took Hyobu MIKAMI, Sigekuni JUGE and others as his disciples.<sep> On the wall panel, Shachihoko(mythical creature with a tiger's head and the body of a fish)was dynamically painted.<sep><cls>\",\n",
    "#     \"On the wall panel, Shachihoko(mythical creature with a tiger's head and the body of a fish)was dynamically painted.<sep><cls>\",\n",
    "#     \"Habutae is a traditional Japanese woven cloth, which is said to have originated in the early-modern times.<sep><cls>\",\n",
    "# ]\n"
   ]
  },
  {
   "cell_type": "code",
   "execution_count": 9,
   "metadata": {
    "jupyter": {
     "source_hidden": true
    }
   },
   "outputs": [],
   "source": [
    "sentences = [\n",
    "    \"The 1977 South African Grand Prix was a Formula One motor race held at Kyalami on 5 March 1977, won by Niki Lauda of Austria. <sep> The race is principally remembered for the accident that resulted in the deaths of race marshal Frederick Jansen van Vuuren and driver Tom Pryce. <sep> It was also the last race for Carlos Pace, who was killed in an aircraft accident less than two weeks later. <sep> <cls>\",\n",
    "    \"James Hunt took his third consecutive pole position, with Carlos Pace alongside and Niki Lauda next. <sep> Hunt led off at the start, with Lauda and local driver Jody Scheckter following him after Pace struggled. <sep> The order stayed put until the seventh lap when Lauda took the lead and was never passed again, with Scheckter taking second from Hunt 11 laps later. <sep> <cls>\",\n",
    "    \"On lap 22, the Shadow-Ford of Italian driver Renzo Zorzi retired from the race with engine failure and moved off the track on the left side. <sep> Moments after the car came to a halt on a blind brow, the engine caught fire. <sep> Reacting to the emergency, two fire marshals carrying fire extinguishers ran across the track to put out the blaze as the race continued. <sep> As they did so, Pryce, in the other Shadow car, and Hans-Joachim Stuck, driving a March-Ford, crested the rise. <sep> Stuck's leading car swerved, narrowly missing the first marshal, but Pryce, who was unsighted behind the German, had no time to react before hitting the second marshal, Frederick Jansen van Vuuren, who was killed instantly. <sep> <cls>\",\n",
    "    \"At the moment of impact of the car with the marshal, the fire extinguisher that Jansen van Vuuren had been holding hit Pryce's head, killing him instantly and nearly decapitating him. <sep> The Shadow then continued down the main straight at speed with Pryce's body still seated behind the wheel. <sep> The car finally left the track at the first corner, taking the Ligier of Jacques Laffite out of the race in the process. <sep> The incident was filmed by a broadcast crew covering the race. <sep> <cls>\",\n",
    "    \"Lauda's Ferrari was barely able to finish the race after his car had picked up part of the wreckage from Pryce's accident in the underside of its monocoque. <sep> This damaged the car's water system and at the end of the race, the team found that only a third of the usual twelve liters of water remained in the system. <sep> Both the warnings for oil pressure and water temperature had been flashing at Lauda for the final 25 laps, in a car which he later described as 'completely gone'. <sep> <cls>\",\n",
    "    \"Despite this, Lauda held on to win his first victory since his near-fatal crash at the 1976 German Grand Prix the previous year. <sep> South African Scheckter was second, and Patrick Depailler's six-wheeler took third from Hunt in the closing laps. <sep> At first Lauda announced it was the greatest victory of his career, but when told on the victory podium of Pryce's death, he said that 'there was no joy after that'. <sep> <cls>\",\n",
    "    \"Jansen van Vuuren's injuries were so severe that, initially, his body was only identified after the race director had summoned all of the race marshals and Van Vuuren was not among them. <sep> <cls>\",\n",
    "    \"The sport reacted with sorrow at the loss of two young men. <sep> Tyrrell mechanic Trevor Foster viewed the incident from a distance, later recalling  <sep> <cls>\",\n",
    "    \"David Tremayne, a veteran biographer and motor sports journalist, recalled the feelings of disbelief and horror following the aftermath of the incident;  <sep> <cls>\",\n",
    "    \"The event was included in the motor racing film 'The Quick and the Dead'. <sep> <cls>\",\n",
    "    \"1977 Spanish Grand Prix <sep> <cls>\",\n",
    "    \"The 1977 Spanish Grand Prix was a Formula One motor race held on 8 May 1977 at the Circuito del Jarama near Madrid, Spain. <sep> It was the fifth race of the 1977 World Championship of F1 Drivers and the 1977 International Cup for F1 Constructors. <sep> <cls>\",\n",
    "    \"The 75-lap race was won from pole position by American driver Mario Andretti, driving a Lotus-Ford. <sep> Argentinian Carlos Reutemann finished second in a Ferrari, with South African Jody Scheckter third in a Wolf-Ford. <sep> <cls>\",\n",
    "    \"Mario Andretti continued his recent form with pole position and Jacques Laffite's Ligier springing a surprise, beating Niki Lauda to second, however Lauda was unable to take part in the race due to a broken rib. <sep> At the start, Andretti took the lead with Laffite following. <sep> Laffite gave chase to Andretti in the early stages but had to pit with a deflating tyre, leaving Andretti to romp to victory with Carlos Reutemann second. <sep> Hunt inherited third but retired with a misfire, giving it to John Watson until he lost places due to a spin, leaving Jody Scheckter to take the final spot on the podium. <sep> <cls>\",\n",
    "    \"The race marked the debut of the Williams Grand Prix Engineering team, entering a single March 761 chassis for Belgian driver Patrick Nève, who finished 12th. <sep> <cls>\",\n",
    "    \"1977 Monaco Grand Prix <sep> <cls>\",\n",
    "    \"The 1977 Monaco Grand Prix was a Formula One motor race held at Monaco on 22 May 1977. <sep> It was the sixth race of the 1977 World Championship of F1 Drivers and the 1977 International Cup for F1 Constructors. <sep> <cls>\",\n",
    "    \"The 76-lap race was won by South African driver Jody Scheckter, driving a Wolf-Ford. <sep> It was Scheckter's second victory of the season, and the 100th World Championship race victory for the Ford-backed Cosworth DFV engine. <sep> Austrian Niki Lauda finished second in a Ferrari, with Argentinian teammate Carlos Reutemann third. <sep> <cls>\",\n",
    "    \"John Watson took his first career pole for Brabham with Jody Scheckter also on the front row and Carlos Reutemann third. <sep> It was Scheckter who got the best start to beat Watson to the first corner, with Reutemann running third in the early stages until he was passed by his teammate Niki Lauda. <sep> Watson ran second to Scheckter until mid-race when he had to retire with gearbox trouble, allowing Lauda to close in on Scheckter but the latter was flawless and held on to take his second win of the season. <sep> Lauda had to be satisfied with second, with Reutemann completing the podium. <sep> <cls>\",\n",
    "    \"Shadow driver Riccardo Patrese made his first career start in the race, qualifying 15th and finishing 9th. <sep> Patrese would drive in a record 257 Grands Prix (256 starts) during his career which ended after the season, a career which included winning at Monaco for Brabham in . <sep> <cls>\",\n",
    "    \"1977 Belgian Grand Prix <sep> <cls>\",\n",
    "    \"The 1977 Belgian Grand Prix was a Formula One motor race held at Zolder on 5 June 1977. <sep> It was the seventh race of the 1977 World Championship of F1 Drivers and the 1977 International Cup for F1 Constructors. <sep> <cls>\",\n",
    "    \"The 70-lap race was won by Swedish driver Gunnar Nilsson, driving a Lotus-Ford. <sep> Austrian driver Niki Lauda finished second in a Ferrari, while Nilsson's fellow Swede, Ronnie Peterson, finished third in a Tyrrell-Ford. <sep> This was to be Nilsson's only Formula One victory, before his career was cut short by cancer and he died in October 1978. <sep> <cls>\",\n",
    "    \"In qualifying Mario Andretti took a comfortable pole position with John Watson just beating the second Lotus of Gunnar Nilsson to second. <sep> The race was wet due to rain earlier in the day, and Watson took the lead at the first corner, but later in the first lap, Andretti ran into the back to him while attempting to retake the lead, resulting in both of them spinning out and Jody Scheckter taking the lead. <sep> <cls>\",\n",
    "    \"Scheckter led the early stages ahead of Nilsson, whereas Carlos Reutemann made an early charge but spun off. <sep> The track began to dry and everyone had to pit for tyres, and those who stopped early were the ones who benefited, as now Niki Lauda was leading from Jochen Mass and Scheckter was down to fifth. <sep> Mass spun off from second, handing it to Nilsson who then went on to catch and pass Lauda before driving away to his first career victory. <sep> Behind second-placed Lauda, Ronnie Peterson completed the podium for Team Tyrrell after Scheckter retired with an engine failure. <sep> This remains the only F1 race in which two Swedes shared the podium. <sep> <cls>\",\n",
    "    \"1977 Swedish Grand Prix <sep> <cls>\",\n",
    "    \"The 1977 Swedish Grand Prix was a Formula One motor race held at the Scandinavian Raceway on 19 June 1977. <sep> It was the eighth race of the 1977 World Championship of F1 Drivers and the 1977 International Cup for F1 Constructors. <sep> <cls>\",\n",
    "    \"The 72-lap race was won by Frenchman Jacques Laffite, driving a Ligier-Matra. <sep> This was the first Formula One victory for a French team and a French engine, as well as the first all-French victory in the Formula One World Championship. <sep> <cls>\",\n",
    "    \"German driver Jochen Mass finished second in a McLaren-Ford, with Argentinian Carlos Reutemann third in a Ferrari. <sep> <cls>\",\n",
    "    \"The Swedish race was full of anticipation after Gunnar Nilsson's win last time out, but once again in qualifying, it was his teammate Mario Andretti leading the way from John Watson, with James Hunt heading the second row. <sep> At the start, again it was Watson who led into the first corner followed by Jody Scheckter, but soon Andretti passed both of them and opened up a lead. <sep> Watson and Scheckter battled for second until they collided, with Scheckter having to retire and Watson pitting for repairs. <sep> Hunt took second but he began to drop back and was passed by a charging Jacques Laffite, and then by his teammate Jochen Mass. <sep> Andretti however, was dominant until he had to pit due to a fuel metering problem with two laps left, handing the lead to Laffite who went on to take his first ever win ahead of Mass and Reutemann. <sep> <cls>\",\n",
    "    \"Laffite's victory in his Gitanes-sponsored Ligier-Matra marked the first all-French victory in World Championship history. <sep> <cls>\",\n",
    "    \"The 1977 French Grand Prix was a Formula One motor race held at Dijon on 3 July 1977. <sep> <cls>\",\n",
    "    ]"
   ]
  },
  {
   "cell_type": "markdown",
   "metadata": {},
   "source": [
    "# Pre-processing"
   ]
  },
  {
   "cell_type": "code",
   "execution_count": 10,
   "metadata": {},
   "outputs": [],
   "source": [
    "def encode_ids(sp_model, s):\n",
    "    assert 'Clancy' not in s and 'Abdallah' not in s\n",
    "    s = s.replace('<cls>', ' Clancy')\n",
    "    s = s.replace('<sep>', ' Abdallah')\n",
    "    ids = sp_model.encode_as_ids(s)\n",
    "    for i, id_ in enumerate(ids):\n",
    "        if id_ == sp_model.encode_as_ids(' Clancy')[0]:\n",
    "            ids[i] = sp_model.piece_to_id('<cls>')\n",
    "        elif id_ == sp_model.encode_as_ids(' Abdallah')[0]:\n",
    "            ids[i] = sp_model.piece_to_id('<sep>')\n",
    "    return ids"
   ]
  },
  {
   "cell_type": "code",
   "execution_count": 11,
   "metadata": {},
   "outputs": [],
   "source": [
    "preprocessed_sentences = []\n",
    "ids_list = []\n",
    "for sentence in sentences:\n",
    "    s = preprocess_text(sentence, lower=False)\n",
    "    preprocessed_sentences.append(s)\n",
    "    ids_list.append(encode_ids(sp_model, s))\n",
    "\n",
    "# Padding\n",
    "for ids in ids_list:\n",
    "    pads = [sp_model.pad_id()] * (seq_length - len(ids))\n",
    "    ids.extend(pads)\n",
    "ids = np.array(ids_list, dtype=np.int32)\n",
    "\n",
    "sample_input_ids = ids.T\n",
    "sample_input_mask = sample_input_ids == sp_model.pad_id()\n",
    "sample_segment_ids = np.zeros_like(sample_input_ids)"
   ]
  },
  {
   "cell_type": "markdown",
   "metadata": {},
   "source": [
    "# Run Model"
   ]
  },
  {
   "cell_type": "code",
   "execution_count": 12,
   "metadata": {},
   "outputs": [],
   "source": [
    "feed_dict={\n",
    "    input_ids: sample_input_ids,\n",
    "    segment_ids: sample_segment_ids,\n",
    "    input_mask: sample_input_mask\n",
    "}\n",
    "sample_seq_out = sess.run(seq_out, feed_dict=feed_dict)"
   ]
  },
  {
   "cell_type": "markdown",
   "metadata": {},
   "source": [
    "# Tensorboard setting"
   ]
  },
  {
   "cell_type": "code",
   "execution_count": 13,
   "metadata": {},
   "outputs": [],
   "source": [
    "# Create Meta Data\n",
    "ids_list = sample_input_ids.T\n",
    "sentence_ids_list = []\n",
    "tokens_list = []\n",
    "for sentence_idx, ids in enumerate(ids_list):\n",
    "    sentence_ids = [sentence_idx] * len(ids)\n",
    "    sentence_ids_list.append(sentence_ids)\n",
    "    \n",
    "    tokens = []\n",
    "    for i in ids:\n",
    "        tokens.append(sp_model.id_to_piece(int(i)))\n",
    "    tokens_list.append(tokens)\n",
    "\n",
    "metadata = []\n",
    "for tokens, sentence_ids in zip(tokens_list, sentence_ids_list):\n",
    "    for t, sid in zip(tokens, sentence_ids):\n",
    "        metadata.append((t, sid))\n",
    "        \n",
    "embs = sample_seq_out.transpose((1, 0, 2))\n",
    "embs = embs.reshape(-1, 1024)"
   ]
  },
  {
   "cell_type": "code",
   "execution_count": 15,
   "metadata": {
    "collapsed": true,
    "jupyter": {
     "outputs_hidden": true
    }
   },
   "outputs": [
    {
     "data": {
      "text/plain": [
       "[('▁The', 0),\n",
       " ('▁1977', 0),\n",
       " ('▁South', 0),\n",
       " ('▁African', 0),\n",
       " ('▁Grand', 0),\n",
       " ('▁Prix', 0),\n",
       " ('▁was', 0),\n",
       " ('▁a', 0),\n",
       " ('▁Formula', 0),\n",
       " ('▁One', 0),\n",
       " ('▁motor', 0),\n",
       " ('▁race', 0),\n",
       " ('▁held', 0),\n",
       " ('▁at', 0),\n",
       " ('▁Ky', 0),\n",
       " ('al', 0),\n",
       " ('ami', 0),\n",
       " ('▁on', 0),\n",
       " ('▁5', 0),\n",
       " ('▁March', 0),\n",
       " ('▁1977,', 0),\n",
       " ('▁won', 0),\n",
       " ('▁by', 0),\n",
       " ('▁Nik', 0),\n",
       " ('i', 0),\n",
       " ('▁La', 0),\n",
       " ('uda', 0),\n",
       " ('▁of', 0),\n",
       " ('▁Austria', 0),\n",
       " ('.', 0),\n",
       " ('<sep>', 0),\n",
       " ('▁The', 0),\n",
       " ('▁race', 0),\n",
       " ('▁is', 0),\n",
       " ('▁principally', 0),\n",
       " ('▁remembered', 0),\n",
       " ('▁for', 0),\n",
       " ('▁the', 0),\n",
       " ('▁accident', 0),\n",
       " ('▁that', 0),\n",
       " ('▁resulted', 0),\n",
       " ('▁in', 0),\n",
       " ('▁the', 0),\n",
       " ('▁deaths', 0),\n",
       " ('▁of', 0),\n",
       " ('▁race', 0),\n",
       " ('▁marshal', 0),\n",
       " ('▁Frederick', 0),\n",
       " ('▁Jan', 0),\n",
       " ('sen', 0),\n",
       " ('▁van', 0),\n",
       " ('▁Vu', 0),\n",
       " ('ur', 0),\n",
       " ('en', 0),\n",
       " ('▁and', 0),\n",
       " ('▁driver', 0),\n",
       " ('▁Tom', 0),\n",
       " ('▁P', 0),\n",
       " ('ry', 0),\n",
       " ('ce', 0),\n",
       " ('.', 0),\n",
       " ('<sep>', 0),\n",
       " ('▁It', 0),\n",
       " ('▁was', 0),\n",
       " ('▁also', 0),\n",
       " ('▁the', 0),\n",
       " ('▁last', 0),\n",
       " ('▁race', 0),\n",
       " ('▁for', 0),\n",
       " ('▁Carlos', 0),\n",
       " ('▁Pace', 0),\n",
       " (',', 0),\n",
       " ('▁who', 0),\n",
       " ('▁was', 0),\n",
       " ('▁killed', 0),\n",
       " ('▁in', 0),\n",
       " ('▁an', 0),\n",
       " ('▁aircraft', 0),\n",
       " ('▁accident', 0),\n",
       " ('▁less', 0),\n",
       " ('▁than', 0),\n",
       " ('▁two', 0),\n",
       " ('▁weeks', 0),\n",
       " ('▁later', 0),\n",
       " ('.', 0),\n",
       " ('<sep>', 0),\n",
       " ('<cls>', 0),\n",
       " ('<pad>', 0),\n",
       " ('<pad>', 0),\n",
       " ('<pad>', 0),\n",
       " ('<pad>', 0),\n",
       " ('<pad>', 0),\n",
       " ('<pad>', 0),\n",
       " ('<pad>', 0),\n",
       " ('<pad>', 0),\n",
       " ('<pad>', 0),\n",
       " ('<pad>', 0),\n",
       " ('<pad>', 0),\n",
       " ('<pad>', 0),\n",
       " ('<pad>', 0)]"
      ]
     },
     "execution_count": 15,
     "metadata": {},
     "output_type": "execute_result"
    }
   ],
   "source": [
    "metadata[:100]"
   ]
  },
  {
   "cell_type": "markdown",
   "metadata": {},
   "source": [
    "# Add outputs and metadata to Tensorboard"
   ]
  },
  {
   "cell_type": "code",
   "execution_count": 16,
   "metadata": {},
   "outputs": [],
   "source": [
    "writer = SummaryWriter(log_dir)"
   ]
  },
  {
   "cell_type": "code",
   "execution_count": 17,
   "metadata": {},
   "outputs": [],
   "source": [
    "writer.add_embedding(embs, metadata, metadata_header=('token', 'sentence_id'))"
   ]
  },
  {
   "cell_type": "markdown",
   "metadata": {},
   "source": [
    "# Appenedix: Sentencepiece problem\n",
    "* Is there any way to change --control_symbols to --user_defined_symbols?\n",
    "* https://github.com/google/sentencepiece/issues/215"
   ]
  },
  {
   "cell_type": "code",
   "execution_count": 19,
   "metadata": {},
   "outputs": [
    {
     "data": {
      "text/plain": [
       "['▁<', 's', 'ep', '>']"
      ]
     },
     "execution_count": 19,
     "metadata": {},
     "output_type": "execute_result"
    }
   ],
   "source": [
    "sp_model.encode_as_pieces('<sep>')"
   ]
  },
  {
   "cell_type": "code",
   "execution_count": null,
   "metadata": {},
   "outputs": [],
   "source": []
  }
 ],
 "metadata": {
  "kernelspec": {
   "display_name": "Python 3",
   "language": "python",
   "name": "python3"
  },
  "language_info": {
   "codemirror_mode": {
    "name": "ipython",
    "version": 3
   },
   "file_extension": ".py",
   "mimetype": "text/x-python",
   "name": "python",
   "nbconvert_exporter": "python",
   "pygments_lexer": "ipython3",
   "version": "3.6.7"
  }
 },
 "nbformat": 4,
 "nbformat_minor": 4
}
